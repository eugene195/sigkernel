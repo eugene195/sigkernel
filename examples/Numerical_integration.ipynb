{
 "cells": [
  {
   "cell_type": "code",
   "execution_count": 5,
   "metadata": {
    "collapsed": true
   },
   "outputs": [],
   "source": [
    "from math import exp\n",
    "import numpy as np\n",
    "\n",
    "#  function to compute\n",
    "def function(x):\n",
    "    return x*x*exp(-x)\n",
    "# function for the Gaussian quadrature with Laguerre polynomials\n",
    "def GaussLaguerreRule(n):\n",
    "   s = 0\n",
    "   xgauleg, wgauleg = np.polynomial.laguerre.laggauss(n)\n",
    "   for i in range(1,n,1):\n",
    "       s = s+ xgauleg[i]*xgauleg[i]*wgauleg[i]\n",
    "   return s"
   ]
  },
  {
   "cell_type": "code",
   "execution_count": 9,
   "outputs": [
    {
     "name": "stdout",
     "output_type": "stream",
     "text": [
      "0.5000000000000001 0.5\n",
      "0.3450971117607857 0.345097\n",
      "-0.14420339089768602 -0.144304\n"
     ]
    }
   ],
   "source": [
    "import torch\n",
    "from sigkernel import quad_w_x_16\n",
    "\n",
    "def test_exp_f1():\n",
    "    return 1\n",
    "\n",
    "def test_exp_f2(x):\n",
    "    return np.sin(x)\n",
    "\n",
    "def test_exp_f3(x):\n",
    "    return np.log(x)\n",
    "\n",
    "print(sum([weight * test_exp_f1() for weight, x in quad_w_x_16]), 0.5)\n",
    "print(sum([weight * test_exp_f2(x) for weight, x in quad_w_x_16]), 0.345097)\n",
    "print(sum([weight * test_exp_f3(x) for weight, x in quad_w_x_16]), -0.144304)\n"
   ],
   "metadata": {
    "collapsed": false,
    "pycharm": {
     "name": "#%%\n"
    }
   }
  },
  {
   "cell_type": "code",
   "execution_count": 10,
   "outputs": [
    {
     "name": "stdout",
     "output_type": "stream",
     "text": [
      "1.0000000000000002 1\n",
      "0.45969769413186035 0.4597\n",
      "-0.9976793222210301 -1\n"
     ]
    }
   ],
   "source": [
    "from sigkernel import quad_w_x_16_0_1\n",
    "import torch\n",
    "\n",
    "def test_exp_f1():\n",
    "    return 1\n",
    "\n",
    "def test_exp_f2(x):\n",
    "    return np.sin(x)\n",
    "\n",
    "def test_exp_f3(x):\n",
    "    return np.log(x)\n",
    "\n",
    "print(sum([weight * test_exp_f1() for weight, x in quad_w_x_16_0_1]), 1)\n",
    "print(sum([weight * test_exp_f2(x) for weight, x in quad_w_x_16_0_1]), 0.4597)\n",
    "print(sum([weight * test_exp_f3(x) for weight, x in quad_w_x_16_0_1]), -1)\n"
   ],
   "metadata": {
    "collapsed": false,
    "pycharm": {
     "name": "#%%\n"
    }
   }
  }
 ],
 "metadata": {
  "kernelspec": {
   "display_name": "Python 3",
   "language": "python",
   "name": "python3"
  },
  "language_info": {
   "codemirror_mode": {
    "name": "ipython",
    "version": 2
   },
   "file_extension": ".py",
   "mimetype": "text/x-python",
   "name": "python",
   "nbconvert_exporter": "python",
   "pygments_lexer": "ipython2",
   "version": "2.7.6"
  }
 },
 "nbformat": 4,
 "nbformat_minor": 0
}